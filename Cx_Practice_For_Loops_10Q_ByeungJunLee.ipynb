{
 "cells": [
  {
   "cell_type": "markdown",
   "metadata": {},
   "source": [
    "# Python practice problems with for loops, dict, input"
   ]
  },
  {
   "cell_type": "code",
   "execution_count": null,
   "metadata": {},
   "outputs": [],
   "source": [
    "# Review Python \"input\" # this should help with assignments below"
   ]
  },
  {
   "cell_type": "code",
   "execution_count": 5,
   "metadata": {},
   "outputs": [
    {
     "name": "stdout",
     "output_type": "stream",
     "text": [
      "Which year will be next summer Olympics? 2020\n"
     ]
    }
   ],
   "source": [
    "Olympic_year = input(\"Which year will be next summer Olympics? \")"
   ]
  },
  {
   "cell_type": "code",
   "execution_count": 6,
   "metadata": {},
   "outputs": [
    {
     "name": "stdout",
     "output_type": "stream",
     "text": [
      "<class 'str'>\n"
     ]
    }
   ],
   "source": [
    "print(type(Olympic_year)) # it is string"
   ]
  },
  {
   "cell_type": "code",
   "execution_count": 7,
   "metadata": {},
   "outputs": [
    {
     "name": "stdout",
     "output_type": "stream",
     "text": [
      "<class 'int'>\n"
     ]
    }
   ],
   "source": [
    "print(type(int(Olympic_year))) # it is integer"
   ]
  },
  {
   "cell_type": "markdown",
   "metadata": {},
   "source": [
    "1) Write a for loop to print \"Hello\" 10 times."
   ]
  },
  {
   "cell_type": "code",
   "execution_count": 8,
   "metadata": {},
   "outputs": [
    {
     "name": "stdout",
     "output_type": "stream",
     "text": [
      "Hello\n",
      "Hello\n",
      "Hello\n",
      "Hello\n",
      "Hello\n",
      "Hello\n",
      "Hello\n",
      "Hello\n",
      "Hello\n",
      "Hello\n"
     ]
    }
   ],
   "source": [
    "# Write code here ...\n",
    "for i in range(10):\n",
    "    print(\"Hello\")"
   ]
  },
  {
   "cell_type": "markdown",
   "metadata": {},
   "source": [
    "2) Write a for loop to print even numbers in the range 1 .. 20"
   ]
  },
  {
   "cell_type": "code",
   "execution_count": 9,
   "metadata": {},
   "outputs": [
    {
     "name": "stdout",
     "output_type": "stream",
     "text": [
      "2\n",
      "4\n",
      "6\n",
      "8\n",
      "10\n",
      "12\n",
      "14\n",
      "16\n",
      "18\n",
      "20\n"
     ]
    }
   ],
   "source": [
    "# Write code here ...\n",
    "for i in range(1,21):\n",
    "    if (i % 2 == 0):\n",
    "        print(i)"
   ]
  },
  {
   "cell_type": "code",
   "execution_count": null,
   "metadata": {},
   "outputs": [],
   "source": [
    "\"\"\"\n",
    "3) Define a list of animals to be as follows:\n",
    "animals = [\"lion\",\"tiger\",\"elephant\",\"giraffe\",\"zebra\"]\n",
    "\n",
    "Now print animal names using for loop. The output should be as follows:\n",
    "1 lion\n",
    "2 tiger\n",
    "3 elephant\n",
    "4 giraffe\n",
    "5 zebra\n",
    "\"\"\""
   ]
  },
  {
   "cell_type": "code",
   "execution_count": 11,
   "metadata": {},
   "outputs": [
    {
     "name": "stdout",
     "output_type": "stream",
     "text": [
      "1 lion\n",
      "2 tiger\n",
      "3 elephant\n",
      "4 giraffe\n",
      "5 zebra\n"
     ]
    }
   ],
   "source": [
    "# Write code here ...\n",
    "animals = [\"lion\",\"tiger\",\"elephant\",\"giraffe\",\"zebra\"]\n",
    "for i in range(len(animals)):\n",
    "    print(i+1, animals[i])"
   ]
  },
  {
   "cell_type": "code",
   "execution_count": null,
   "metadata": {},
   "outputs": [],
   "source": [
    "\"\"\"\n",
    "4) Visiting moon every year for next 10 years\n",
    "The weight on moon can be estimated to be 18%  of weight on earth.\n",
    "Write a program which will ask the user to enter current earth weight.\n",
    "Then calculate weight on moon. Assume our weight increases by 2 pounds every year on earth.\n",
    "\n",
    "Use for loop to print weight on moon each year when you visit.\n",
    "\"\"\""
   ]
  },
  {
   "cell_type": "code",
   "execution_count": 12,
   "metadata": {},
   "outputs": [
    {
     "name": "stdout",
     "output_type": "stream",
     "text": [
      "What is your weight on earth150\n",
      "The weight on moon is 27\n",
      "What is your weight on earth152\n",
      "The weight on moon is 27\n",
      "What is your weight on earth154\n",
      "The weight on moon is 27\n",
      "What is your weight on earth156\n",
      "The weight on moon is 28\n",
      "What is your weight on earth158\n",
      "The weight on moon is 28\n",
      "What is your weight on earth160\n",
      "The weight on moon is 28\n",
      "What is your weight on earth162\n",
      "The weight on moon is 29\n",
      "What is your weight on earth164\n",
      "The weight on moon is 29\n",
      "What is your weight on earth166\n",
      "The weight on moon is 29\n",
      "What is your weight on earth168\n",
      "The weight on moon is 30\n"
     ]
    }
   ],
   "source": [
    "# Write code here ...\n",
    "for i in range(10):\n",
    "    eweight = input(\"What is your weight on earth\")\n",
    "    print(\"The weight on moon is %d\" % (int(eweight) * 0.18))"
   ]
  },
  {
   "cell_type": "markdown",
   "metadata": {},
   "source": [
    "5) Write a for loop to find the sum of all numbers from 1 to 100; 1 + 2 + ... + 99 + 100"
   ]
  },
  {
   "cell_type": "code",
   "execution_count": 13,
   "metadata": {},
   "outputs": [
    {
     "name": "stdout",
     "output_type": "stream",
     "text": [
      "The sum from 1 to 100 is 5050\n"
     ]
    }
   ],
   "source": [
    "# Write code here ...\n",
    "sum = 0\n",
    "for i in range(1,101):\n",
    "    sum = sum + i\n",
    "print(\"The sum from 1 to 100 is %d\" % sum)"
   ]
  },
  {
   "cell_type": "markdown",
   "metadata": {},
   "source": [
    "6) Write a for loop which will ask the user to input 4 numbers. The program should calculate sum of 4 numbers and print the sum."
   ]
  },
  {
   "cell_type": "code",
   "execution_count": 16,
   "metadata": {},
   "outputs": [
    {
     "name": "stdout",
     "output_type": "stream",
     "text": [
      "Input number 1 : 5\n",
      "Input number 2 : 6\n",
      "Input number 3 : 7\n",
      "Input number 4 : 8\n",
      "Sum for the four numbers is 26\n"
     ]
    }
   ],
   "source": [
    "# Write code here ...\n",
    "num1 = input(\"Input number 1 : \")\n",
    "num2 = input(\"Input number 2 : \")\n",
    "num3 = input(\"Input number 3 : \")\n",
    "num4 = input(\"Input number 4 : \")\n",
    "sum = int(num1) + int(num2) + int(num3) + int(num4)\n",
    "print(\"Sum for the four numbers is %d\" % sum)\n"
   ]
  },
  {
   "cell_type": "markdown",
   "metadata": {},
   "source": [
    "7) Write a Python for loop to find product of even number from 1 to 50;\n",
    "2 x 4 x 6 x 8 x ... x 42 x 44 x 46 x 50"
   ]
  },
  {
   "cell_type": "code",
   "execution_count": 22,
   "metadata": {},
   "outputs": [
    {
     "name": "stdout",
     "output_type": "stream",
     "text": [
      "The product result for the even numbers from 1 to 50 is 520469842636666622693081088000000\n"
     ]
    }
   ],
   "source": [
    "# Write code here ...\n",
    "result = 1\n",
    "for i in range(1,51):\n",
    "    if (i % 2 == 0):\n",
    "        result = result * i\n",
    "print(\"The product result for the even numbers from 1 to 50 is %d\" % result)"
   ]
  },
  {
   "cell_type": "markdown",
   "metadata": {},
   "source": [
    "8a) Find the index of minimum and maximum number in MyList."
   ]
  },
  {
   "cell_type": "code",
   "execution_count": 24,
   "metadata": {},
   "outputs": [],
   "source": [
    "myList = [46, 84, 43, 75, 94, 7, 17, 76, 44, 17, 81, 21, 70, 56, 98, 88, 59, 58, 62, 77, \n",
    "          56, 19, 83, 82, 2, 38, 8, 57, 80, 54, 71, 74, 77, 18, 66, 25, 60, 29, 30, 11, \n",
    "          45, 60, 92, 44, 71, 49, 22, 74, 30, 58, 73, 60, 14, 97, 13, 78, 42, 17, 98, 14, \n",
    "          19, 79, 54, 56, 84, 81, 49, 18, 95, 36, 84, 77, 44, 69, 48, 94, 66, 13, 96, 7, \n",
    "          9, 47, 4, 37, 71, 51, 9, 28, 92, 38, 75, 66, 2, 34, 88, 4, 43, 75, 57, 83,\n",
    "          63, 17, 25, 98, 71, 95, 1, 86, 97, 90, 6, 96, 11, 49, 16, 91, 50, 66, 54, 94,\n",
    "          75, 69, 97, 23, 50, 13, 75, 15, 77, 17, 57, 59, 47, 44, 95, 28, 16, 72, 69, 7,\n",
    "          14, 76, 10, 21, 56, 89, 51, 78, 25, 7, 8, 17, 53, 86, 58, 35, 46, 16, 74, 21, 9,\n",
    "          4, 91, 59, 84, 50, 86, 60, 63, 99, 92, 64, 55, 40, 93, 39, 48, 96, 49, 98, 36,\n",
    "          72, 82, 45, 62, 58, 77, 17, 42, 49, 38, 21, 84, 61, 77, 1, 37, 31, 50, 52, 58]"
   ]
  },
  {
   "cell_type": "code",
   "execution_count": 29,
   "metadata": {},
   "outputs": [
    {
     "name": "stdout",
     "output_type": "stream",
     "text": [
      "The minimum value is at index 106 and the value is 1\n",
      "The maximum value is at index 169 and the value is 99\n"
     ]
    }
   ],
   "source": [
    "# Write code here ...\n",
    "min = myList[0]\n",
    "max = myList[0]\n",
    "for i in range(1,len(myList)):\n",
    "    if (myList[i] < min):\n",
    "        min = myList[i]\n",
    "        minIndex = i\n",
    "    if (myList[i] > max):\n",
    "        max = myList[i]\n",
    "        maxIndex = i\n",
    "print(\"The minimum value is at index %d and the value is %d\" % (minIndex, min))\n",
    "print(\"The maximum value is at index %d and the value is %d\" % (maxIndex, max))"
   ]
  },
  {
   "cell_type": "markdown",
   "metadata": {},
   "source": [
    "8b) In myList, find top-5 highest frequency numbers. List the numbers and number of occurences."
   ]
  },
  {
   "cell_type": "code",
   "execution_count": 46,
   "metadata": {},
   "outputs": [
    {
     "name": "stdout",
     "output_type": "stream",
     "text": [
      "Top-5 highest frequency numbers\n",
      "Number : 17, frequency : 7\n",
      "Number : 77, frequency : 6\n",
      "Number : 84, frequency : 5\n",
      "Number : 75, frequency : 5\n",
      "Number : 58, frequency : 5\n"
     ]
    }
   ],
   "source": [
    "# write code here ...\n",
    "dict = {}\n",
    "for i in range(len(myList)):\n",
    "    if not myList[i] in dict:\n",
    "        dict[myList[i]] = 1\n",
    "    else:\n",
    "        dict[myList[i]] = dict[myList[i]] + 1\n",
    "sortedDict = sorted([(value,key) for (key,value) in dict.items()], reverse=True)\n",
    "print(\"Top-5 highest frequency numbers\")\n",
    "count = 5\n",
    "for key,value in sortedDict:\n",
    "    print(\"Number : %d, frequency : %d\" % (value, key))\n",
    "    count = count - 1\n",
    "    if (count == 0):\n",
    "        break"
   ]
  },
  {
   "cell_type": "markdown",
   "metadata": {},
   "source": [
    "9) Write a Python program to convert temperature from Centigrade to Fahrenheit\n",
    "and Fahrenheit to Centigrade. At the start, the program should ask which way we are converting.\n",
    "\n",
    "Then ask the user to input the temperature. Your program should do the conversion\n",
    "and print the results.\n",
    "\n",
    "(C x 9/5) + 32 = F"
   ]
  },
  {
   "cell_type": "code",
   "execution_count": 62,
   "metadata": {},
   "outputs": [
    {
     "name": "stdout",
     "output_type": "stream",
     "text": [
      "Whch temperature unit you want to use C for Centigrade, F for Fahrenheit : f\n",
      "Please input the temperature.104\n",
      "Converted Centigrade temperature for 104 is 40\n"
     ]
    }
   ],
   "source": [
    "# Write code here \n",
    "import sys\n",
    "\n",
    "unit = input(\"Whch temperature unit you want to use C for Centigrade, F for Fahrenheit : \")\n",
    "unit = unit.upper()\n",
    "if unit != 'F' and unit != 'C':\n",
    "    print(\"Wrong unit input. Please input C or F.\")\n",
    "    sys.exit()\n",
    "value = input(\"Please input the temperature.\")\n",
    "if (unit == 'C'):\n",
    "    tempF = (int(value) * 9) / 5 + 32\n",
    "    print(\"Converted Fahrenheit temperature for %d is %d\" % (int(value), tempF))\n",
    "else:\n",
    "    tempC = ((int(value) - 32) * 5) / 9\n",
    "    print(\"Converted Centigrade temperature for %d is %d\" % (int(value), tempC))"
   ]
  },
  {
   "cell_type": "code",
   "execution_count": null,
   "metadata": {},
   "outputs": [],
   "source": [
    "\"\"\"\n",
    "10) Print the times table:\n",
    "1x1=1 1x2=2 1x3=3 1x4=4 1x5=5\n",
    "2x1=2 2x2=4 2x3=6 2x4=8 2x5=10\n",
    "3x1=3 3x2=6 3x3=9 3x4=12 3x5=15\n",
    "4x1=3 4x2=6 4x3=9 4x4=12 4x5=15\n",
    "5x1=3 5x2=6 5x3=9 5x4=12 5x5=15\n",
    "\n",
    "Use for loop nested with for loop to print the above multiplication table\n",
    "\"\"\""
   ]
  },
  {
   "cell_type": "code",
   "execution_count": 70,
   "metadata": {},
   "outputs": [
    {
     "name": "stdout",
     "output_type": "stream",
     "text": [
      "The times table\n",
      "1x1=1 1x2=2 1x3=3 1x4=4 1x5=5 \n",
      "2x1=2 2x2=4 2x3=6 2x4=8 2x5=10 \n",
      "3x1=3 3x2=6 3x3=9 3x4=12 3x5=15 \n",
      "4x1=4 4x2=8 4x3=12 4x4=16 4x5=20 \n",
      "5x1=5 5x2=10 5x3=15 5x4=20 5x5=25 \n"
     ]
    }
   ],
   "source": [
    "# write code here \n",
    "print(\"The times table\")\n",
    "for i in range(1,6):\n",
    "    for j in range (1,6):\n",
    "        print(\"%dx%d=%d\" %(i,j,i*j), end=\" \"),\n",
    "    print()"
   ]
  },
  {
   "cell_type": "code",
   "execution_count": null,
   "metadata": {},
   "outputs": [],
   "source": []
  }
 ],
 "metadata": {
  "kernelspec": {
   "display_name": "Python 3",
   "language": "python",
   "name": "python3"
  },
  "language_info": {
   "codemirror_mode": {
    "name": "ipython",
    "version": 3
   },
   "file_extension": ".py",
   "mimetype": "text/x-python",
   "name": "python",
   "nbconvert_exporter": "python",
   "pygments_lexer": "ipython3",
   "version": "3.7.0"
  }
 },
 "nbformat": 4,
 "nbformat_minor": 2
}
